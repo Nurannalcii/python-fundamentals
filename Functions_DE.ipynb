{
  "nbformat": 4,
  "nbformat_minor": 0,
  "metadata": {
    "colab": {
      "provenance": []
    },
    "kernelspec": {
      "name": "python3",
      "display_name": "Python 3"
    },
    "language_info": {
      "name": "python"
    }
  },
  "cells": [
    {
      "cell_type": "markdown",
      "source": [
        "#**Functions in Python**\n",
        "Functions are reusable blocks of code that:\n",
        " - Perform a specific task.\n",
        " - Make code modular and easier to debug.\n",
        " - Avoid repetition ."
      ],
      "metadata": {
        "id": "aNXPAttsehqg"
      }
    },
    {
      "cell_type": "markdown",
      "source": [
        "##**Recap: Arithmetic Operators**\n",
        "Arithmetic operators are used for mathematical calculations:\n",
        " * `+` (Addition), `-` (Subtraction),\n",
        " *  `*` (Multiplication), `**` (Exponent)\n",
        " *  `/` (Division), `%` (Modulus), `//` (Floor Division)"
      ],
      "metadata": {
        "id": "0Ctw4AIjISOb"
      }
    },
    {
      "cell_type": "code",
      "source": [
        "#let's take the below two number and do some arithmetic operators\n",
        "a = 10\n",
        "b = 3"
      ],
      "metadata": {
        "id": "UnS0RPuZIMmZ"
      },
      "execution_count": null,
      "outputs": []
    },
    {
      "cell_type": "code",
      "source": [
        "#addition\n",
        "print(\"Addition:\", a + b)"
      ],
      "metadata": {
        "id": "jG3esdZiIMie",
        "colab": {
          "base_uri": "https://localhost:8080/"
        },
        "outputId": "a7abc46b-b6b3-4eab-f283-e173d7e0b875"
      },
      "execution_count": null,
      "outputs": [
        {
          "output_type": "stream",
          "name": "stdout",
          "text": [
            "Addition: 13\n"
          ]
        }
      ]
    },
    {
      "cell_type": "code",
      "source": [
        "#Substraction\n",
        "print(\"Subtraction:\", a - b)"
      ],
      "metadata": {
        "id": "6Bav69AmIMY0",
        "colab": {
          "base_uri": "https://localhost:8080/"
        },
        "outputId": "ea1b8238-3604-4bb5-e075-31b739da6127"
      },
      "execution_count": null,
      "outputs": [
        {
          "output_type": "stream",
          "name": "stdout",
          "text": [
            "Subtraction: 7\n"
          ]
        }
      ]
    },
    {
      "cell_type": "code",
      "source": [
        "#multiplication\n",
        "print(\"Multiplication:\", a * b)"
      ],
      "metadata": {
        "id": "mK72uBzpIMUj",
        "colab": {
          "base_uri": "https://localhost:8080/"
        },
        "outputId": "1c537e24-637d-49e8-b672-0863025a6957"
      },
      "execution_count": null,
      "outputs": [
        {
          "output_type": "stream",
          "name": "stdout",
          "text": [
            "Multiplication: 30\n"
          ]
        }
      ]
    },
    {
      "cell_type": "code",
      "source": [
        "#division\n",
        "print(\"Division:\", a / b)"
      ],
      "metadata": {
        "id": "XOIhQguwIMRE",
        "colab": {
          "base_uri": "https://localhost:8080/"
        },
        "outputId": "3dca4d79-c408-42f9-a313-3d1ee486aa0c"
      },
      "execution_count": null,
      "outputs": [
        {
          "output_type": "stream",
          "name": "stdout",
          "text": [
            "Division: 3.3333333333333335\n"
          ]
        }
      ]
    },
    {
      "cell_type": "code",
      "source": [
        "#it will round down to lowest integer value (3.3333 value to 3)\n",
        "print(\"Floor Division:\", a // b)"
      ],
      "metadata": {
        "id": "g6l-DpVCIgXY",
        "colab": {
          "base_uri": "https://localhost:8080/"
        },
        "outputId": "90f0f836-61a7-4d15-aada-c0252febbd7e"
      },
      "execution_count": null,
      "outputs": [
        {
          "output_type": "stream",
          "name": "stdout",
          "text": [
            "Floor Division: 3\n"
          ]
        }
      ]
    },
    {
      "cell_type": "code",
      "source": [
        "#modulus give us the remainder after division\n",
        "print(\"Modulus (remainder):\", a % b)"
      ],
      "metadata": {
        "id": "QCFHED_4IgdP",
        "colab": {
          "base_uri": "https://localhost:8080/"
        },
        "outputId": "858e69a5-c740-4f2d-ff9f-21281d2bf6a7"
      },
      "execution_count": null,
      "outputs": [
        {
          "output_type": "stream",
          "name": "stdout",
          "text": [
            "Modulus (remainder): 1\n"
          ]
        }
      ]
    },
    {
      "cell_type": "code",
      "source": [
        "#exponent\n",
        "print(\"Exponent:\", a ** b)"
      ],
      "metadata": {
        "id": "9xyW5g7bIgaI",
        "colab": {
          "base_uri": "https://localhost:8080/"
        },
        "outputId": "917ef6d5-ba52-46ce-ee40-3eb7423e635f"
      },
      "execution_count": null,
      "outputs": [
        {
          "output_type": "stream",
          "name": "stdout",
          "text": [
            "Exponent: 1000\n"
          ]
        }
      ]
    },
    {
      "cell_type": "code",
      "source": [
        "16 ** (1/4)"
      ],
      "metadata": {
        "id": "O0HsexmpMnmS"
      },
      "execution_count": null,
      "outputs": []
    },
    {
      "cell_type": "markdown",
      "source": [
        "## Basic Function"
      ],
      "metadata": {
        "id": "0Xprv1PBfTnO"
      }
    },
    {
      "cell_type": "code",
      "execution_count": null,
      "metadata": {
        "id": "0aGVQTWnecup",
        "colab": {
          "base_uri": "https://localhost:8080/"
        },
        "outputId": "fb37abf9-c7a9-4885-8a7a-7f716a63c1f2"
      },
      "outputs": [
        {
          "output_type": "stream",
          "name": "stdout",
          "text": [
            "Hello, Data Analyst!\n",
            "Hello, Data Analyst!\n"
          ]
        }
      ],
      "source": [
        "#Simple function\n",
        "def greet():\n",
        "  print(\"Hello, Data Analyst!\")\n",
        "\n",
        "# Call the function\n",
        "greet()\n",
        "greet()"
      ]
    },
    {
      "cell_type": "code",
      "source": [
        "greet()"
      ],
      "metadata": {
        "colab": {
          "base_uri": "https://localhost:8080/"
        },
        "id": "Klp-xyDgMA4M",
        "outputId": "4a0c87db-b208-4c22-d4c9-f975b2d6fada"
      },
      "execution_count": null,
      "outputs": [
        {
          "output_type": "stream",
          "name": "stdout",
          "text": [
            "Hello, Data Analyst!\n"
          ]
        }
      ]
    },
    {
      "cell_type": "markdown",
      "source": [
        "## Function with parameters"
      ],
      "metadata": {
        "id": "UH97XWfhg4J5"
      }
    },
    {
      "cell_type": "code",
      "source": [
        "#Function with parameters\n",
        "def add_numbers(a,b):\n",
        "  return a + b\n",
        "\n",
        "add_numbers(6,5)"
      ],
      "metadata": {
        "id": "bQwUz1W_e_Ef",
        "colab": {
          "base_uri": "https://localhost:8080/"
        },
        "outputId": "39b71576-c6f6-484d-b9db-4abfc467b8d4"
      },
      "execution_count": null,
      "outputs": [
        {
          "output_type": "execute_result",
          "data": {
            "text/plain": [
              "11"
            ]
          },
          "metadata": {},
          "execution_count": 14
        }
      ]
    },
    {
      "cell_type": "code",
      "source": [
        "add_numbers(1,3)"
      ],
      "metadata": {
        "id": "piaFkc88fHet",
        "colab": {
          "base_uri": "https://localhost:8080/"
        },
        "outputId": "3f1559aa-b193-4c94-99ae-3f9ac1bdb61f"
      },
      "execution_count": null,
      "outputs": [
        {
          "output_type": "execute_result",
          "data": {
            "text/plain": [
              "4"
            ]
          },
          "metadata": {},
          "execution_count": 15
        }
      ]
    },
    {
      "cell_type": "code",
      "source": [
        "# Write a function `say_hello(name)` that prints \"Hello, {name}!\".\n",
        "\n",
        "def say_hello(name):\n",
        "  print(f\"Hello, {name}!\")\n",
        "\n",
        "#calling the function\n",
        "say_hello(\"Paul\")"
      ],
      "metadata": {
        "id": "BD0_pyTLfHYs",
        "colab": {
          "base_uri": "https://localhost:8080/"
        },
        "outputId": "1b8c9ce6-2e4a-4c5e-ea82-79fe88171699"
      },
      "execution_count": null,
      "outputs": [
        {
          "output_type": "stream",
          "name": "stdout",
          "text": [
            "Hello, Paul!\n"
          ]
        }
      ]
    },
    {
      "cell_type": "code",
      "source": [
        "# 2. Create a function `multiply(a, b)` that returns the product of `a` and `b`.\n",
        "def multiply(a,b):\n",
        "  result = a * b\n",
        "  return result"
      ],
      "metadata": {
        "id": "9-TVtn-zfOU6"
      },
      "execution_count": null,
      "outputs": []
    },
    {
      "cell_type": "code",
      "source": [
        "multiply(2,6)"
      ],
      "metadata": {
        "colab": {
          "base_uri": "https://localhost:8080/"
        },
        "id": "uAihMNFYP54X",
        "outputId": "ea1b8bfb-7d40-4fe7-f1dc-d6383a17dfb0"
      },
      "execution_count": null,
      "outputs": [
        {
          "output_type": "execute_result",
          "data": {
            "text/plain": [
              "12"
            ]
          },
          "metadata": {},
          "execution_count": 26
        }
      ]
    },
    {
      "cell_type": "code",
      "source": [
        "multiply(-1.3,-2)"
      ],
      "metadata": {
        "colab": {
          "base_uri": "https://localhost:8080/"
        },
        "id": "PVrT3y4NP-RH",
        "outputId": "ef58a140-bf8a-4d64-b12e-abbef94c6563"
      },
      "execution_count": null,
      "outputs": [
        {
          "output_type": "execute_result",
          "data": {
            "text/plain": [
              "2.6"
            ]
          },
          "metadata": {},
          "execution_count": 27
        }
      ]
    },
    {
      "cell_type": "code",
      "source": [
        "multiply(2,multiply(5,10))"
      ],
      "metadata": {
        "colab": {
          "base_uri": "https://localhost:8080/"
        },
        "id": "OqRnarahQDfB",
        "outputId": "6f40abc6-8187-4872-e21c-9a1a8ad9b7d9"
      },
      "execution_count": null,
      "outputs": [
        {
          "output_type": "execute_result",
          "data": {
            "text/plain": [
              "100"
            ]
          },
          "metadata": {},
          "execution_count": 28
        }
      ]
    },
    {
      "cell_type": "code",
      "source": [
        "100"
      ],
      "metadata": {
        "id": "NEiq9oKVQbVp"
      },
      "execution_count": null,
      "outputs": []
    },
    {
      "cell_type": "markdown",
      "source": [
        "##Parameters vs Arguments\n",
        "\n",
        " - **Parameters**: Variables listed in the function definition.\n",
        " - **Arguments**: Actual values passed to the function.\n",
        " - **Default Parameters**: Assign default values if no argument is provided."
      ],
      "metadata": {
        "id": "TfwSx06whD5g"
      }
    },
    {
      "cell_type": "code",
      "source": [
        "# Default parameter(example: exponent=2)\n",
        "def power(base,exponent=2):\n",
        "  return base ** exponent"
      ],
      "metadata": {
        "id": "nR90_nQ6fORv"
      },
      "execution_count": null,
      "outputs": []
    },
    {
      "cell_type": "code",
      "source": [
        "power(3,4)"
      ],
      "metadata": {
        "colab": {
          "base_uri": "https://localhost:8080/"
        },
        "id": "fssbRcaqS4bo",
        "outputId": "a28f2b06-fe10-4328-c9b8-a5fe37948150"
      },
      "execution_count": null,
      "outputs": [
        {
          "output_type": "execute_result",
          "data": {
            "text/plain": [
              "81"
            ]
          },
          "metadata": {},
          "execution_count": 40
        }
      ]
    },
    {
      "cell_type": "code",
      "source": [
        "power(power(3))"
      ],
      "metadata": {
        "colab": {
          "base_uri": "https://localhost:8080/"
        },
        "id": "_pdjMyMQTA5t",
        "outputId": "cefc36e9-3e33-4b53-b02d-a3aed2c00936"
      },
      "execution_count": null,
      "outputs": [
        {
          "output_type": "execute_result",
          "data": {
            "text/plain": [
              "81"
            ]
          },
          "metadata": {},
          "execution_count": 42
        }
      ]
    },
    {
      "cell_type": "code",
      "source": [
        "#Create a function `calculate_area(length, width=10)` to compute rectangle area.\n",
        "def calculate_area(length=20, width=10):\n",
        "  return multiply(length, width)\n"
      ],
      "metadata": {
        "id": "pHgPV11LhsIi"
      },
      "execution_count": null,
      "outputs": []
    },
    {
      "cell_type": "code",
      "source": [
        "calculate_area(4,5)"
      ],
      "metadata": {
        "colab": {
          "base_uri": "https://localhost:8080/"
        },
        "id": "kSTOyiubUGqX",
        "outputId": "bc4efba2-1ccc-4c4d-f28e-da4337f030fa"
      },
      "execution_count": null,
      "outputs": [
        {
          "output_type": "execute_result",
          "data": {
            "text/plain": [
              "20"
            ]
          },
          "metadata": {},
          "execution_count": 54
        }
      ]
    },
    {
      "cell_type": "code",
      "source": [
        "calculate_area(5)"
      ],
      "metadata": {
        "colab": {
          "base_uri": "https://localhost:8080/"
        },
        "id": "ynK07VqpULmL",
        "outputId": "d4733567-a946-4eff-92bc-2a445af37b50"
      },
      "execution_count": null,
      "outputs": [
        {
          "output_type": "execute_result",
          "data": {
            "text/plain": [
              "50"
            ]
          },
          "metadata": {},
          "execution_count": 55
        }
      ]
    },
    {
      "cell_type": "code",
      "source": [
        "calculate_area()"
      ],
      "metadata": {
        "colab": {
          "base_uri": "https://localhost:8080/"
        },
        "id": "mgaufS0cUXgU",
        "outputId": "e45bcdf4-c5c4-431a-8280-d8853cd30533"
      },
      "execution_count": null,
      "outputs": [
        {
          "output_type": "execute_result",
          "data": {
            "text/plain": [
              "200"
            ]
          },
          "metadata": {},
          "execution_count": 56
        }
      ]
    },
    {
      "cell_type": "code",
      "source": [
        "calculate_area(20)"
      ],
      "metadata": {
        "colab": {
          "base_uri": "https://localhost:8080/"
        },
        "id": "1p145H0uU-ph",
        "outputId": "95665a0e-e071-4354-a74e-12407b54b24f"
      },
      "execution_count": null,
      "outputs": [
        {
          "output_type": "execute_result",
          "data": {
            "text/plain": [
              "200"
            ]
          },
          "metadata": {},
          "execution_count": 58
        }
      ]
    },
    {
      "cell_type": "code",
      "source": [
        "calculate_area(width=20)"
      ],
      "metadata": {
        "colab": {
          "base_uri": "https://localhost:8080/"
        },
        "id": "u_YqlGKLUgFk",
        "outputId": "9bdd63a6-c1ea-4e08-d41d-6fa6de3bf0a1"
      },
      "execution_count": null,
      "outputs": [
        {
          "output_type": "execute_result",
          "data": {
            "text/plain": [
              "400"
            ]
          },
          "metadata": {},
          "execution_count": 57
        }
      ]
    },
    {
      "cell_type": "markdown",
      "source": [
        "## Return Statements\n",
        " - `return` sends a value back to the caller.\n",
        " - A function without `return` gives `None`."
      ],
      "metadata": {
        "id": "uTahi2HiiqUB"
      }
    },
    {
      "cell_type": "code",
      "source": [
        "#Return vs print\n",
        "def get_square(n):\n",
        "  return n*n\n",
        "\n",
        "square = get_square(4)\n",
        "print(\"Square:\", square)"
      ],
      "metadata": {
        "id": "3h5mfM6TiMpU",
        "colab": {
          "base_uri": "https://localhost:8080/"
        },
        "outputId": "32fcecf3-932b-4fa4-9d3f-2c2329000f6f"
      },
      "execution_count": null,
      "outputs": [
        {
          "output_type": "stream",
          "name": "stdout",
          "text": [
            "Square: 16\n"
          ]
        }
      ]
    },
    {
      "cell_type": "code",
      "source": [
        "get_square(get_square(3))"
      ],
      "metadata": {
        "colab": {
          "base_uri": "https://localhost:8080/"
        },
        "id": "YTL6OCOERwEL",
        "outputId": "b455ceb4-8400-4b2d-a758-ccacacd2801d"
      },
      "execution_count": null,
      "outputs": [
        {
          "output_type": "stream",
          "name": "stdout",
          "text": [
            "Hello\n",
            "Hello\n"
          ]
        },
        {
          "output_type": "execute_result",
          "data": {
            "text/plain": [
              "81"
            ]
          },
          "metadata": {},
          "execution_count": 32
        }
      ]
    },
    {
      "cell_type": "code",
      "source": [
        "# Common mistake: No return statement\n",
        "def wrong_square(n):\n",
        "  print(n*n)\n",
        "\n",
        "result = wrong_square(4)\n",
        "print(\"Result:\", result)  # Output: None"
      ],
      "metadata": {
        "id": "WnYuWiiIiMlg",
        "colab": {
          "base_uri": "https://localhost:8080/"
        },
        "outputId": "ca7b0b74-e72d-4b4f-be3c-d9adb7fa677e"
      },
      "execution_count": null,
      "outputs": [
        {
          "output_type": "stream",
          "name": "stdout",
          "text": [
            "16\n",
            "Result: None\n"
          ]
        }
      ]
    },
    {
      "cell_type": "markdown",
      "source": [
        "## Scope of Variables\n",
        "\n",
        " - **Local Variables**: Defined inside a function (not accessible outside).\n",
        " - **Global Variables**: Defined outside functions (accessible everywhere).\n"
      ],
      "metadata": {
        "id": "62s70GelkaYU"
      }
    },
    {
      "cell_type": "code",
      "source": [
        "#Local vs global\n",
        "global_var = \"I’m global\"\n",
        "\n",
        "def test_scope():\n",
        "    local_var = \"I’m local\"\n",
        "    print(global_var)  # Works\n",
        "    print(local_var)   # Works\n",
        "\n",
        "test_scope()\n",
        "print(global_var)\n",
        "print(local_var)  # Error: local_var is not defined\n"
      ],
      "metadata": {
        "id": "e19fSTZUjrD7",
        "colab": {
          "base_uri": "https://localhost:8080/",
          "height": 228
        },
        "outputId": "1908e90a-decb-4604-dce3-f1f38cddd182"
      },
      "execution_count": null,
      "outputs": [
        {
          "output_type": "stream",
          "name": "stdout",
          "text": [
            "I’m global\n",
            "I’m local\n",
            "I’m global\n"
          ]
        },
        {
          "output_type": "error",
          "ename": "NameError",
          "evalue": "name 'local_var' is not defined",
          "traceback": [
            "\u001b[0;31m---------------------------------------------------------------------------\u001b[0m",
            "\u001b[0;31mNameError\u001b[0m                                 Traceback (most recent call last)",
            "\u001b[0;32m<ipython-input-107-f9ff4d4dde4d>\u001b[0m in \u001b[0;36m<cell line: 0>\u001b[0;34m()\u001b[0m\n\u001b[1;32m      9\u001b[0m \u001b[0mtest_scope\u001b[0m\u001b[0;34m(\u001b[0m\u001b[0;34m)\u001b[0m\u001b[0;34m\u001b[0m\u001b[0;34m\u001b[0m\u001b[0m\n\u001b[1;32m     10\u001b[0m \u001b[0mprint\u001b[0m\u001b[0;34m(\u001b[0m\u001b[0mglobal_var\u001b[0m\u001b[0;34m)\u001b[0m\u001b[0;34m\u001b[0m\u001b[0;34m\u001b[0m\u001b[0m\n\u001b[0;32m---> 11\u001b[0;31m \u001b[0mprint\u001b[0m\u001b[0;34m(\u001b[0m\u001b[0mlocal_var\u001b[0m\u001b[0;34m)\u001b[0m  \u001b[0;31m# Error: local_var is not defined\u001b[0m\u001b[0;34m\u001b[0m\u001b[0;34m\u001b[0m\u001b[0m\n\u001b[0m",
            "\u001b[0;31mNameError\u001b[0m: name 'local_var' is not defined"
          ]
        }
      ]
    },
    {
      "cell_type": "code",
      "source": [
        "#Local vs global\n",
        "global_var = \"I’m global\"\n",
        "\n",
        "def test_scope():\n",
        "    local_var = \"I’m local\"\n",
        "    global_var = \"I'm also local\"\n",
        "    print(global_var)  # Works\n",
        "    print(local_var)   # Works\n",
        "\n",
        "test_scope()\n",
        "print(global_var)"
      ],
      "metadata": {
        "colab": {
          "base_uri": "https://localhost:8080/"
        },
        "id": "D9w2QNVfckjp",
        "outputId": "1ad5a49a-fb72-4aec-c7ee-3d2c205b5e06"
      },
      "execution_count": null,
      "outputs": [
        {
          "output_type": "stream",
          "name": "stdout",
          "text": [
            "I'm also local\n",
            "I’m local\n",
            "I’m global\n"
          ]
        }
      ]
    },
    {
      "cell_type": "markdown",
      "source": [
        "The global variable y can be accessed both inside and outside the function.\n",
        "\n"
      ],
      "metadata": {
        "id": "7MfCAnmVTsEn"
      }
    },
    {
      "cell_type": "code",
      "source": [
        "y = 20  # Global variable\n",
        "def print_global():\n",
        "    x=12 #local variable\n",
        "    print(\"Inside the function, y =\", y)\n",
        "\n",
        "print_global()\n",
        "print(\"Outside the function, y =\", y)\n"
      ],
      "metadata": {
        "id": "zOwhhfBRRqf7"
      },
      "execution_count": null,
      "outputs": []
    },
    {
      "cell_type": "markdown",
      "source": [
        "Please run the code after removing the comment(#) from the second print statment\n",
        "this will give an NameError since we want to access local variable."
      ],
      "metadata": {
        "id": "UDYcwBKfTSZv"
      }
    },
    {
      "cell_type": "code",
      "source": [
        "y = 20  # Global variable\n",
        "def print_global():\n",
        "    x=12 #local variable\n",
        "    print(\"Inside the function, y =\", y)\n",
        "\n",
        "print_global()\n",
        "#Please run the code after removing the comment(#) below\n",
        "#print(\"Outside the function, x =\", x)"
      ],
      "metadata": {
        "collapsed": true,
        "id": "L1ko2zVJS2jy"
      },
      "execution_count": null,
      "outputs": []
    },
    {
      "cell_type": "markdown",
      "source": [
        "##Lambda Functions\n",
        "\n",
        " - **Lambda functions** are small, anonymous functions defined with `lambda`.\n",
        " - Ideal for short, single-use operations.\n",
        " - Syntax: `lambda arguments: expression`"
      ],
      "metadata": {
        "id": "FHK0dHU3sU4h"
      }
    },
    {
      "cell_type": "code",
      "source": [
        "#Simple lambda\n"
      ],
      "metadata": {
        "id": "8HVo9I1IsoER"
      },
      "execution_count": null,
      "outputs": []
    },
    {
      "cell_type": "code",
      "source": [
        "#Lambda with multiple arguments\n"
      ],
      "metadata": {
        "id": "8eRmnOKssoA_"
      },
      "execution_count": null,
      "outputs": []
    },
    {
      "cell_type": "code",
      "source": [
        "#Using lambda with `sorted()`\n"
      ],
      "metadata": {
        "id": "Tqej1YMatacH"
      },
      "execution_count": null,
      "outputs": []
    },
    {
      "cell_type": "code",
      "source": [
        "#Example with filter()\n",
        "\n"
      ],
      "metadata": {
        "id": "nQSLWavnxhZz"
      },
      "execution_count": null,
      "outputs": []
    },
    {
      "cell_type": "code",
      "source": [
        "#Using `map()` with a lambda\n"
      ],
      "metadata": {
        "id": "irTbVdFTtaY3"
      },
      "execution_count": null,
      "outputs": []
    },
    {
      "cell_type": "code",
      "source": [
        "#Using `zip()` to pair lists\n"
      ],
      "metadata": {
        "id": "KVpQRi5Gt7Fl"
      },
      "execution_count": null,
      "outputs": []
    },
    {
      "cell_type": "markdown",
      "source": [
        "## Python Built-in Functions\n",
        "\n",
        "Python has many **built-in functions** ready to use. Common ones include:\n",
        " - `len()`, `print()`, `type()`\n",
        " - `sum()`, `min()`, `max()`, `sorted()`\n",
        " - 'abs()',int()\n"
      ],
      "metadata": {
        "id": "8ApN5nXptD79"
      }
    },
    {
      "cell_type": "code",
      "source": [
        "#type(): Returns the type of an object\n",
        "x = 5\n",
        "print(type(x))"
      ],
      "metadata": {
        "id": "nmzLaYqd0tf2",
        "colab": {
          "base_uri": "https://localhost:8080/"
        },
        "outputId": "11472189-7606-4fe6-a517-d3d67ebf043d"
      },
      "execution_count": null,
      "outputs": [
        {
          "output_type": "stream",
          "name": "stdout",
          "text": [
            "<class 'int'>\n"
          ]
        }
      ]
    },
    {
      "cell_type": "code",
      "source": [
        "type(x) == type(4)"
      ],
      "metadata": {
        "colab": {
          "base_uri": "https://localhost:8080/"
        },
        "id": "YWyllEaPV5iu",
        "outputId": "38789a35-c666-4cda-e40b-a9abeb34ccf1"
      },
      "execution_count": null,
      "outputs": [
        {
          "output_type": "execute_result",
          "data": {
            "text/plain": [
              "True"
            ]
          },
          "metadata": {},
          "execution_count": 61
        }
      ]
    },
    {
      "cell_type": "code",
      "source": [
        "type(x) == type(4.0)"
      ],
      "metadata": {
        "colab": {
          "base_uri": "https://localhost:8080/"
        },
        "id": "Fvb2qkhwWVXl",
        "outputId": "56e44df3-dd50-4709-9427-0a60e544891d"
      },
      "execution_count": null,
      "outputs": [
        {
          "output_type": "execute_result",
          "data": {
            "text/plain": [
              "False"
            ]
          },
          "metadata": {},
          "execution_count": 62
        }
      ]
    },
    {
      "cell_type": "code",
      "source": [
        "type(float(x)) == type(4.0)"
      ],
      "metadata": {
        "colab": {
          "base_uri": "https://localhost:8080/"
        },
        "id": "unLRaIWTWbnS",
        "outputId": "aa930978-17b2-49de-ce5d-14a7fb813ac2"
      },
      "execution_count": null,
      "outputs": [
        {
          "output_type": "execute_result",
          "data": {
            "text/plain": [
              "True"
            ]
          },
          "metadata": {},
          "execution_count": 64
        }
      ]
    },
    {
      "cell_type": "code",
      "source": [
        "#Using `sum()` and `max()`\n",
        "numbers = [10, 20, 30]\n",
        "print(\"Sum:\", sum(numbers))\n",
        "print(\"Max:\", max(numbers))"
      ],
      "metadata": {
        "id": "4LGuep0htTY2",
        "colab": {
          "base_uri": "https://localhost:8080/"
        },
        "outputId": "1ba7b9f6-751c-465d-83ea-5abe76c3afac"
      },
      "execution_count": null,
      "outputs": [
        {
          "output_type": "stream",
          "name": "stdout",
          "text": [
            "Sum: 60\n",
            "Max: 30\n"
          ]
        }
      ]
    },
    {
      "cell_type": "code",
      "source": [
        "#abs(): Returns the absolute value of a number\n",
        "print(abs(-20))"
      ],
      "metadata": {
        "id": "hMuz6wLNzoev",
        "colab": {
          "base_uri": "https://localhost:8080/"
        },
        "outputId": "2b1e4733-4d75-4d3a-8ce5-5de3e629d44a"
      },
      "execution_count": null,
      "outputs": [
        {
          "output_type": "stream",
          "name": "stdout",
          "text": [
            "20\n"
          ]
        }
      ]
    },
    {
      "cell_type": "code",
      "source": [
        "#min(): Returns the smallest item in an iterable\n",
        "print(min(2, 5, 8, 1, 6))"
      ],
      "metadata": {
        "id": "IKaZHxIi0NKN",
        "colab": {
          "base_uri": "https://localhost:8080/"
        },
        "outputId": "f9df481e-b118-4b1a-8df2-4919c7932b50"
      },
      "execution_count": null,
      "outputs": [
        {
          "output_type": "stream",
          "name": "stdout",
          "text": [
            "1\n"
          ]
        }
      ]
    },
    {
      "cell_type": "code",
      "source": [
        "#int(): Converts a value to an integer\n",
        "print(int(\"5\"))"
      ],
      "metadata": {
        "id": "VM_kt3XV0WgI",
        "colab": {
          "base_uri": "https://localhost:8080/"
        },
        "outputId": "e452f5b9-8953-4766-ecc8-427f81e16959"
      },
      "execution_count": null,
      "outputs": [
        {
          "output_type": "stream",
          "name": "stdout",
          "text": [
            "5\n"
          ]
        }
      ]
    },
    {
      "cell_type": "code",
      "source": [
        "print(int(\"Hello\"))"
      ],
      "metadata": {
        "colab": {
          "base_uri": "https://localhost:8080/",
          "height": 141
        },
        "id": "I3rA_qX3XKe8",
        "outputId": "6b9c877b-bdfa-4cc6-d1e7-23eab47c0281"
      },
      "execution_count": null,
      "outputs": [
        {
          "output_type": "error",
          "ename": "ValueError",
          "evalue": "invalid literal for int() with base 10: 'Hello'",
          "traceback": [
            "\u001b[0;31m---------------------------------------------------------------------------\u001b[0m",
            "\u001b[0;31mValueError\u001b[0m                                Traceback (most recent call last)",
            "\u001b[0;32m<ipython-input-73-21fec080f25c>\u001b[0m in \u001b[0;36m<cell line: 0>\u001b[0;34m()\u001b[0m\n\u001b[0;32m----> 1\u001b[0;31m \u001b[0mprint\u001b[0m\u001b[0;34m(\u001b[0m\u001b[0mint\u001b[0m\u001b[0;34m(\u001b[0m\u001b[0;34m\"Hello\"\u001b[0m\u001b[0;34m)\u001b[0m\u001b[0;34m)\u001b[0m\u001b[0;34m\u001b[0m\u001b[0;34m\u001b[0m\u001b[0m\n\u001b[0m",
            "\u001b[0;31mValueError\u001b[0m: invalid literal for int() with base 10: 'Hello'"
          ]
        }
      ]
    },
    {
      "cell_type": "code",
      "source": [
        "#len(): Returns the length of an object\n",
        "fruits = [\"apple\", \"banana\", \"cherry\"]\n",
        "print(len(fruits))"
      ],
      "metadata": {
        "id": "gIdNezZD0fY0",
        "colab": {
          "base_uri": "https://localhost:8080/"
        },
        "outputId": "10957b1c-a345-468b-8a6f-96f3ce647c33"
      },
      "execution_count": null,
      "outputs": [
        {
          "output_type": "stream",
          "name": "stdout",
          "text": [
            "3\n"
          ]
        }
      ]
    },
    {
      "cell_type": "code",
      "source": [
        "s = \"Hello\"\n",
        "len(s)"
      ],
      "metadata": {
        "colab": {
          "base_uri": "https://localhost:8080/"
        },
        "id": "0zY9dwhfXVlV",
        "outputId": "18bbae77-ebf7-49c8-ee75-0def76b0dfa5"
      },
      "execution_count": null,
      "outputs": [
        {
          "output_type": "execute_result",
          "data": {
            "text/plain": [
              "5"
            ]
          },
          "metadata": {},
          "execution_count": 75
        }
      ]
    },
    {
      "cell_type": "markdown",
      "source": [
        "##Built-in module functions\n",
        "Python offers a wide range of built-in module functions that are commonly used in various programming tasks. here are some of the most common one\n",
        "* math.sqrt(): Returns the square root of a number\n",
        "* math.floor(): Rounds down to the nearest integer\n",
        "* random.randint(): Generates a random integer within a specified range\n",
        "* datetime.now(): Returns the current date and time\n",
        "\n"
      ],
      "metadata": {
        "id": "bKOVQgPX1uCH"
      }
    },
    {
      "cell_type": "code",
      "source": [
        "import math\n",
        "math.sqrt(5)"
      ],
      "metadata": {
        "colab": {
          "base_uri": "https://localhost:8080/"
        },
        "id": "n0SKHiC3XmnY",
        "outputId": "7cff896a-7284-4ded-8763-24354d0af95b"
      },
      "execution_count": null,
      "outputs": [
        {
          "output_type": "execute_result",
          "data": {
            "text/plain": [
              "2.23606797749979"
            ]
          },
          "metadata": {},
          "execution_count": 77
        }
      ]
    },
    {
      "cell_type": "code",
      "source": [
        "import random\n",
        "# Generate a random number between 1 and 10\n",
        "random_number = random.randint(1, 10)\n",
        "print(\"Random number between 1 and 10:\", random_number)"
      ],
      "metadata": {
        "id": "7a7TiJcK0pF2",
        "colab": {
          "base_uri": "https://localhost:8080/"
        },
        "outputId": "11b47453-5537-470a-c38e-7ebda01a182e"
      },
      "execution_count": null,
      "outputs": [
        {
          "output_type": "stream",
          "name": "stdout",
          "text": [
            "Random number between 1 and 10: 3\n"
          ]
        }
      ]
    },
    {
      "cell_type": "code",
      "source": [
        "random.randint?"
      ],
      "metadata": {
        "id": "WdV6TnoSY9Kr"
      },
      "execution_count": null,
      "outputs": []
    },
    {
      "cell_type": "code",
      "source": [
        "import datetime\n",
        "# Get current date and time\n",
        "current_datetime = datetime.datetime.now()\n",
        "print(\"Current date and time:\", current_datetime)"
      ],
      "metadata": {
        "id": "RI9sVN_52YIR",
        "colab": {
          "base_uri": "https://localhost:8080/"
        },
        "outputId": "30ef71e6-c122-468c-8c95-596317c606f7"
      },
      "execution_count": null,
      "outputs": [
        {
          "output_type": "stream",
          "name": "stdout",
          "text": [
            "Current date and time: 2025-02-12 13:38:43.881233\n"
          ]
        }
      ]
    },
    {
      "cell_type": "code",
      "source": [
        "# Format the date and time\n",
        "formatted_date = current_datetime.strftime(\"%d.%m.%Y %H:%M:%S\")\n",
        "print(\"Formatted date and time:\", formatted_date)"
      ],
      "metadata": {
        "id": "YTHOb10126Gy",
        "colab": {
          "base_uri": "https://localhost:8080/"
        },
        "outputId": "5917bb09-4eff-4562-89b5-1f53c1aff48e"
      },
      "execution_count": null,
      "outputs": [
        {
          "output_type": "stream",
          "name": "stdout",
          "text": [
            "Formatted date and time: 12.02.2025 13:38:43\n"
          ]
        }
      ]
    },
    {
      "cell_type": "markdown",
      "source": [
        "## User Input\n",
        "\n",
        "\n",
        "\n",
        "*   The **input()** function is used to take user input in Python.\n",
        "*   By default, input() returns a **string**. You can convert it to other data\n",
        "types using functions like int() or float()."
      ],
      "metadata": {
        "id": "d5tBlCqOMDMr"
      }
    },
    {
      "cell_type": "code",
      "source": [
        "# Taking user input\n",
        "name = input(\"Give me your name: \")\n",
        "say_hello(name)"
      ],
      "metadata": {
        "id": "6v3rR3oSL921",
        "colab": {
          "base_uri": "https://localhost:8080/"
        },
        "outputId": "4f9c226e-ae78-4e50-c2f4-9a6c2e7135e1"
      },
      "execution_count": null,
      "outputs": [
        {
          "output_type": "stream",
          "name": "stdout",
          "text": [
            "Give me your name: Thimo\n",
            "Hello, Thimo!\n"
          ]
        }
      ]
    },
    {
      "cell_type": "code",
      "source": [
        "print(\"Hello to the squaring program\")\n",
        "number = int(input(\"Give me your number to square: \"))\n",
        "print(get_square(number))"
      ],
      "metadata": {
        "colab": {
          "base_uri": "https://localhost:8080/"
        },
        "id": "L8sg8fcQasCd",
        "outputId": "41c36375-71f4-47e2-fbec-a3e608f19172"
      },
      "execution_count": null,
      "outputs": [
        {
          "output_type": "stream",
          "name": "stdout",
          "text": [
            "Hello to the squaring program\n",
            "Give me your number to square: 4\n",
            "16\n"
          ]
        }
      ]
    },
    {
      "cell_type": "markdown",
      "source": [
        "###Exercise\n",
        "1. Ask the user for their favorite color and print: \"Your favorite color is {color}\".\n",
        "2. Ask the user for two numbers and print their sum.\n",
        "3. get price and quantity from the user and calculate the total cost"
      ],
      "metadata": {
        "id": "LtPTuOo7MW0B"
      }
    },
    {
      "cell_type": "code",
      "source": [
        "#solution1\n"
      ],
      "metadata": {
        "id": "JynjwS0UL9uj"
      },
      "execution_count": null,
      "outputs": []
    },
    {
      "cell_type": "code",
      "source": [
        "#solution2\n"
      ],
      "metadata": {
        "id": "WU-_vRL3L9jl"
      },
      "execution_count": null,
      "outputs": []
    },
    {
      "cell_type": "markdown",
      "source": [
        "## Error Handling in Functions\n",
        "\n",
        "- Use `try-except` blocks to handle errors gracefully inside functions."
      ],
      "metadata": {
        "id": "IBUapHIBliEd"
      }
    },
    {
      "cell_type": "code",
      "source": [
        "#Handling division by zero\n",
        "#def safe_divide(a, b):\n"
      ],
      "metadata": {
        "id": "0J5LXl8NlNvn"
      },
      "execution_count": null,
      "outputs": []
    },
    {
      "cell_type": "code",
      "source": [
        "#Create a function `sqrt(n)` that returns the square root, but handles negative inputs with an error message.\n",
        "import math\n",
        "\n",
        "#def sqrt(n):\n"
      ],
      "metadata": {
        "id": "P3dAiZs5lNsN"
      },
      "execution_count": null,
      "outputs": []
    },
    {
      "cell_type": "markdown",
      "source": [
        "### Exercise_1\n",
        "Build a function `temperature_converter(celsius)` that returns the temperature in Fahrenheit (°F = °C × 9/5 + 32)."
      ],
      "metadata": {
        "id": "SPIUOOnLoIyg"
      }
    },
    {
      "cell_type": "code",
      "source": [
        "# Temperature Converter\n"
      ],
      "metadata": {
        "id": "YuWxAGD8n5PH"
      },
      "execution_count": null,
      "outputs": []
    },
    {
      "cell_type": "markdown",
      "source": [
        "###Exercise_2\n",
        "Write a Python function called square_number that:\n",
        "\n",
        "1.   Takes a single input from the user, prompting them to \"Enter a number: \"\n",
        "2.  Converts the user's input to an integer.\n",
        "3. Calculates the square of that number.\n",
        "4. Returns the calculated square.\n",
        "5.Handles exceptions: If the user enters something that cannot be converted to an integer (like text), the function should print the message \"Invalid input. Please enter a whole number.\" and return None.\n",
        "\n"
      ],
      "metadata": {
        "id": "X7JBTtwQWStx"
      }
    },
    {
      "cell_type": "code",
      "source": [
        "#solution_3\n",
        "#def square_number():\n"
      ],
      "metadata": {
        "id": "6RvQKcJGVaqe"
      },
      "execution_count": null,
      "outputs": []
    },
    {
      "cell_type": "markdown",
      "source": [
        "###Exercise_4\n",
        "Create a Python function named divide_numbers that:\n",
        "\n",
        "1.  Takes two inputs from the user: the numerator and the denominator. Prompt them with \"Enter the numerator: \" and \"Enter the denominator: \", respectively.\n",
        "2.  Converts both inputs to floating-point numbers.\n",
        "3. Divides the numerator by the denominator.\n",
        "4. Returns the result of the division.\n",
        "5. Handles exceptions:\n",
        "If the user enters something that cannot be converted to a number, print \"Invalid input. Please enter numbers only.\" and return None.\n",
        "If the denominator is zero, print \"Cannot divide by zero.\" and return None.\n",
        "\n",
        "\n",
        "\n",
        "\n",
        "\n",
        "\n"
      ],
      "metadata": {
        "id": "GqK35hhUWsFG"
      }
    },
    {
      "cell_type": "code",
      "source": [
        "#Solution 4\n",
        "#def divide_numbers():"
      ],
      "metadata": {
        "id": "SD7gjpbEWrrw"
      },
      "execution_count": null,
      "outputs": []
    },
    {
      "cell_type": "markdown",
      "source": [
        "-------------------------------------**THANK YOU!**----------------------------"
      ],
      "metadata": {
        "id": "_6GP26JK3Mup"
      }
    }
  ]
}